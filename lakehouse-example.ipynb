{
 "cells": [
  {
   "cell_type": "code",
   "execution_count": 1,
   "id": "0a5fa8ab-fd27-4370-bd42-a4eb7bc53025",
   "metadata": {},
   "outputs": [
    {
     "name": "stdout",
     "output_type": "stream",
     "text": [
      ":: loading settings :: url = jar:file:/Users/mars_su/Library/Python/3.9/lib/python/site-packages/pyspark/jars/ivy-2.5.1.jar!/org/apache/ivy/core/settings/ivysettings.xml\n"
     ]
    },
    {
     "name": "stderr",
     "output_type": "stream",
     "text": [
      "Ivy Default Cache set to: /Users/mars_su/.ivy2/cache\n",
      "The jars for the packages stored in: /Users/mars_su/.ivy2/jars\n",
      "io.delta#delta-core_2.12 added as a dependency\n",
      ":: resolving dependencies :: org.apache.spark#spark-submit-parent-05a6c8e9-8bd3-4b64-9d86-2d24e123f105;1.0\n",
      "\tconfs: [default]\n",
      "\tfound io.delta#delta-core_2.12;2.1.0 in central\n",
      "\tfound io.delta#delta-storage;2.1.0 in central\n",
      "\tfound org.antlr#antlr4-runtime;4.8 in local-m2-cache\n",
      "\tfound org.codehaus.jackson#jackson-core-asl;1.9.13 in local-m2-cache\n",
      ":: resolution report :: resolve 346ms :: artifacts dl 18ms\n",
      "\t:: modules in use:\n",
      "\tio.delta#delta-core_2.12;2.1.0 from central in [default]\n",
      "\tio.delta#delta-storage;2.1.0 from central in [default]\n",
      "\torg.antlr#antlr4-runtime;4.8 from local-m2-cache in [default]\n",
      "\torg.codehaus.jackson#jackson-core-asl;1.9.13 from local-m2-cache in [default]\n",
      "\t---------------------------------------------------------------------\n",
      "\t|                  |            modules            ||   artifacts   |\n",
      "\t|       conf       | number| search|dwnlded|evicted|| number|dwnlded|\n",
      "\t---------------------------------------------------------------------\n",
      "\t|      default     |   4   |   0   |   0   |   0   ||   4   |   0   |\n",
      "\t---------------------------------------------------------------------\n",
      ":: retrieving :: org.apache.spark#spark-submit-parent-05a6c8e9-8bd3-4b64-9d86-2d24e123f105\n",
      "\tconfs: [default]\n",
      "\t0 artifacts copied, 4 already retrieved (0kB/10ms)\n"
     ]
    },
    {
     "name": "stdout",
     "output_type": "stream",
     "text": [
      "23/12/09 14:46:44 WARN NativeCodeLoader: Unable to load native-hadoop library for your platform... using builtin-java classes where applicable\n"
     ]
    },
    {
     "name": "stderr",
     "output_type": "stream",
     "text": [
      "Setting default log level to \"WARN\".\n",
      "To adjust logging level use sc.setLogLevel(newLevel). For SparkR, use setLogLevel(newLevel).\n"
     ]
    }
   ],
   "source": [
    "import os\n",
    "import sys\n",
    "from pyspark.sql import SparkSession\n",
    "from delta import *\n",
    "\n",
    "os.environ['PYSPARK_PYTHON'] = \"/usr/bin/python3\"\n",
    "os.environ['PYSPARK_DRIVER_PYTHON'] = \"/usr/bin/python3\"\n",
    "\n",
    "builder = SparkSession.builder\\\n",
    "        .appName(\"Lakehouse\")\\\n",
    "        .config(\"spark.sql.extensions\", \"io.delta.sql.DeltaSparkSessionExtension\") \\\n",
    "        .config(\"spark.sql.catalog.spark_catalog\", \"org.apache.spark.sql.delta.catalog.DeltaCatalog\")\n",
    "\n",
    "spark = configure_spark_with_delta_pip(builder).getOrCreate()\n"
   ]
  },
  {
   "cell_type": "markdown",
   "id": "e9d446e7-3544-475a-8302-2d93007635ce",
   "metadata": {},
   "source": [
    "### Raw data to Bronze "
   ]
  },
  {
   "cell_type": "code",
   "execution_count": 2,
   "id": "c8378843-13ef-4529-a4a0-3196a6e0fe44",
   "metadata": {},
   "outputs": [
    {
     "name": "stdout",
     "output_type": "stream",
     "text": [
      "+-------+--------------------+------+-----------+---------+--------------------+-------------+-----------------+\n",
      "|partner|              course|rating|reviewcount|    level|     certificatetype|     duration|crediteligibility|\n",
      "+-------+--------------------+------+-----------+---------+--------------------+-------------+-----------------+\n",
      "| Google|Google Cybersecurity|   4.8|      16.4k|Beginner | Professional Cer...| 3 - 6 Months|            FALSE|\n",
      "| Google|Google Data Analy...|   4.8|     133.4k|Beginner | Professional Cer...| 3 - 6 Months|             TRUE|\n",
      "+-------+--------------------+------+-----------+---------+--------------------+-------------+-----------------+\n",
      "only showing top 2 rows\n",
      "\n"
     ]
    },
    {
     "name": "stderr",
     "output_type": "stream",
     "text": [
      "                                                                                \r"
     ]
    }
   ],
   "source": [
    "from pyspark.sql.types import (\n",
    "    StructType,\n",
    "    StructField,\n",
    "    StringType,\n",
    "    DoubleType,\n",
    "    ArrayType\n",
    ")\n",
    "\n",
    "rawdata_schema = StructType([\n",
    "    StructField('partner', StringType(), True),\n",
    "    StructField('course', StringType(), True),\n",
    "    StructField('rating', StringType(), True),\n",
    "    StructField('reviewcount', StringType(), True),\n",
    "    StructField('level', StringType(), True),\n",
    "    StructField('certificatetype', StringType(), True),\n",
    "    StructField('duration', StringType(), True),\n",
    "    StructField('crediteligibility', StringType(), True),\n",
    "])\n",
    "\n",
    "\n",
    "raw_df = spark.read.csv(\"./rawdata/Coursera.csv\", header=True, schema=rawdata_schema)\n",
    "raw_df.show(2)"
   ]
  },
  {
   "cell_type": "code",
   "execution_count": 3,
   "id": "0f1597f7-dd83-46d5-912a-ec53ba832a89",
   "metadata": {},
   "outputs": [
    {
     "name": "stderr",
     "output_type": "stream",
     "text": [
      "                                                                                \r"
     ]
    }
   ],
   "source": [
    "raw_df.write\\\n",
    "    .partitionBy(\"partner\")\\\n",
    "    .format(\"delta\")\\\n",
    "    .mode(\"append\")\\\n",
    "    .save(\"./bronze/\")"
   ]
  },
  {
   "cell_type": "markdown",
   "id": "635d2d84-74c4-4b4c-8f34-52f3c93a10fc",
   "metadata": {},
   "source": [
    "#### Delta log for Bronze"
   ]
  },
  {
   "cell_type": "code",
   "execution_count": 4,
   "id": "ef578d31-10eb-4c23-8d19-75d5133bdd85",
   "metadata": {},
   "outputs": [
    {
     "name": "stdout",
     "output_type": "stream",
     "text": [
      "+-------+--------------------+------+--------+---------+--------------------+----+--------+---------+-----------+--------------+-------------+--------------------+------------+--------------------+\n",
      "|version|           timestamp|userId|userName|operation| operationParameters| job|notebook|clusterId|readVersion|isolationLevel|isBlindAppend|    operationMetrics|userMetadata|          engineInfo|\n",
      "+-------+--------------------+------+--------+---------+--------------------+----+--------+---------+-----------+--------------+-------------+--------------------+------------+--------------------+\n",
      "|      0|2023-12-09 14:47:...|  null|    null|    WRITE|{mode -> Append, ...|null|    null|     null|       null|  Serializable|         true|{numFiles -> 180,...|        null|Apache-Spark/3.3....|\n",
      "+-------+--------------------+------+--------+---------+--------------------+----+--------+---------+-----------+--------------+-------------+--------------------+------------+--------------------+\n",
      "\n"
     ]
    }
   ],
   "source": [
    "from delta.tables import DeltaTable\n",
    "\n",
    "bronze_delta_table = DeltaTable.forPath(spark, \"./bronze/\")\n",
    "operation_df = bronze_delta_table.history()\n",
    "operation_df.show()"
   ]
  },
  {
   "cell_type": "code",
   "execution_count": 5,
   "id": "f2faf119-2daf-455d-b0bc-4300cc98c88f",
   "metadata": {},
   "outputs": [
    {
     "name": "stdout",
     "output_type": "stream",
     "text": [
      "+-------+--------------------+------+-----------+---------+--------+--------+\n",
      "|version|           timestamp|  mode|partitionBy|operation|numFiles|numFiles|\n",
      "+-------+--------------------+------+-----------+---------+--------+--------+\n",
      "|      0|2023-12-09 14:47:...|Append|[\"partner\"]|    WRITE|     180|     180|\n",
      "+-------+--------------------+------+-----------+---------+--------+--------+\n",
      "\n"
     ]
    }
   ],
   "source": [
    "operation_df.select(\n",
    "    \"version\",\n",
    "    \"timestamp\",\n",
    "    \"operationParameters.mode\",\n",
    "    \"operationParameters.partitionBy\",\n",
    "    \"operation\",\n",
    "    \"operationMetrics.numFiles\",\n",
    "    \"operationMetrics.numFiles\"\n",
    ").show(20)"
   ]
  },
  {
   "cell_type": "code",
   "execution_count": null,
   "id": "f7479369-9444-466e-a242-8f42260b4de8",
   "metadata": {},
   "outputs": [],
   "source": []
  },
  {
   "cell_type": "markdown",
   "id": "d96b23db-2d8e-4761-8143-950deeb54145",
   "metadata": {},
   "source": [
    "### Bronze to Silver"
   ]
  },
  {
   "cell_type": "code",
   "execution_count": 6,
   "id": "c5ab9bdc-86e8-4b8a-a56f-916e012f71c8",
   "metadata": {},
   "outputs": [
    {
     "name": "stdout",
     "output_type": "stream",
     "text": [
      "+-------+--------------------+------+-----------+---------+--------------------+-------------+-----------------+\n",
      "|partner|              course|rating|reviewcount|    level|     certificatetype|     duration|crediteligibility|\n",
      "+-------+--------------------+------+-----------+---------+--------------------+-------------+-----------------+\n",
      "| Google|Google Cybersecurity|   4.8|      16.4k|Beginner | Professional Cer...| 3 - 6 Months|            FALSE|\n",
      "| Google|Google Data Analy...|   4.8|     133.4k|Beginner | Professional Cer...| 3 - 6 Months|             TRUE|\n",
      "+-------+--------------------+------+-----------+---------+--------------------+-------------+-----------------+\n",
      "only showing top 2 rows\n",
      "\n"
     ]
    }
   ],
   "source": [
    "bronze_df = spark.read.format(\"delta\").load(\"./bronze/\")\n",
    "bronze_df.show(2)"
   ]
  },
  {
   "cell_type": "code",
   "execution_count": 7,
   "id": "5eaf38c1-4a6b-4e62-a2fc-45df681b0b93",
   "metadata": {},
   "outputs": [
    {
     "name": "stderr",
     "output_type": "stream",
     "text": [
      "[Stage 14:>                                                         (0 + 1) / 1]\r"
     ]
    },
    {
     "name": "stdout",
     "output_type": "stream",
     "text": [
      "+-------+--------------------+------+-----------+---------+--------------------+-------------+-----------------+\n",
      "|partner|              course|rating|reviewcount|    level|     certificatetype|     duration|crediteligibility|\n",
      "+-------+--------------------+------+-----------+---------+--------------------+-------------+-----------------+\n",
      "| Google|Google Cybersecurity|   4.8|    16400.0|Beginner | Professional Cer...| 3 - 6 Months|            FALSE|\n",
      "| Google|Google Data Analy...|   4.8|   133400.0|Beginner | Professional Cer...| 3 - 6 Months|             TRUE|\n",
      "+-------+--------------------+------+-----------+---------+--------------------+-------------+-----------------+\n",
      "only showing top 2 rows\n",
      "\n"
     ]
    },
    {
     "name": "stderr",
     "output_type": "stream",
     "text": [
      "                                                                                \r"
     ]
    }
   ],
   "source": [
    "import pyspark.sql.functions as F\n",
    "\n",
    "def convert_k_count(count):\n",
    "    if count[-1] == \"k\":\n",
    "        return float(count[:-1])*1000\n",
    "    return count\n",
    "\n",
    "udf = F.udf(convert_k_count, DoubleType())\n",
    "\n",
    "bronze_df = bronze_df.filter(F.col(\"reviewcount\").isNotNull())\n",
    "bronze_df = bronze_df.withColumn(\"reviewcount\", udf(F.col(\"reviewcount\")))\n",
    "bronze_df = bronze_df.filter(F.col(\"level\").isNotNull())\n",
    "bronze_df.show(2)"
   ]
  },
  {
   "cell_type": "code",
   "execution_count": 8,
   "id": "ce73b882-038c-41f6-acbe-bbf4a231cf6c",
   "metadata": {},
   "outputs": [
    {
     "name": "stderr",
     "output_type": "stream",
     "text": [
      "[Stage 17:>                                                         (0 + 8) / 8]\r"
     ]
    },
    {
     "name": "stdout",
     "output_type": "stream",
     "text": [
      "23/12/09 14:49:24 WARN MemoryManager: Total allocation exceeds 95.00% (1,020,054,720 bytes) of heap memory\n",
      "Scaling row group sizes to 95.00% for 8 writers\n"
     ]
    },
    {
     "name": "stderr",
     "output_type": "stream",
     "text": [
      "                                                                                \r"
     ]
    }
   ],
   "source": [
    "bronze_df.write\\\n",
    "    .partitionBy(\"partner\", \"level\")\\\n",
    "    .format(\"delta\")\\\n",
    "    .mode(\"append\")\\\n",
    "    .save(\"./silver/\")"
   ]
  },
  {
   "cell_type": "markdown",
   "id": "9f70cd07-55d1-4557-8a74-d5ead589b679",
   "metadata": {},
   "source": [
    "#### Delta log for Silver"
   ]
  },
  {
   "cell_type": "code",
   "execution_count": 9,
   "id": "e2f0b63c-cb71-41b2-b806-2b4b2796cd63",
   "metadata": {},
   "outputs": [
    {
     "name": "stdout",
     "output_type": "stream",
     "text": [
      "+-------+--------------------+------+--------+---------+--------------------+----+--------+---------+-----------+--------------+-------------+--------------------+------------+--------------------+\n",
      "|version|           timestamp|userId|userName|operation| operationParameters| job|notebook|clusterId|readVersion|isolationLevel|isBlindAppend|    operationMetrics|userMetadata|          engineInfo|\n",
      "+-------+--------------------+------+--------+---------+--------------------+----+--------+---------+-----------+--------------+-------------+--------------------+------------+--------------------+\n",
      "|      0|2023-12-09 14:49:...|  null|    null|    WRITE|{mode -> Append, ...|null|    null|     null|       null|  Serializable|         true|{numFiles -> 283,...|        null|Apache-Spark/3.3....|\n",
      "+-------+--------------------+------+--------+---------+--------------------+----+--------+---------+-----------+--------------+-------------+--------------------+------------+--------------------+\n",
      "\n"
     ]
    }
   ],
   "source": [
    "from delta.tables import DeltaTable\n",
    "\n",
    "silver_delta_table = DeltaTable.forPath(spark, \"./silver/\")\n",
    "silver_operation_df = silver_delta_table.history()\n",
    "silver_operation_df.show()"
   ]
  },
  {
   "cell_type": "code",
   "execution_count": 10,
   "id": "7c8a56d2-87e8-4472-9527-01779b698fce",
   "metadata": {},
   "outputs": [
    {
     "name": "stdout",
     "output_type": "stream",
     "text": [
      "+-------+--------------------+------+-------------------+---------+--------+--------+\n",
      "|version|           timestamp|  mode|        partitionBy|operation|numFiles|numFiles|\n",
      "+-------+--------------------+------+-------------------+---------+--------+--------+\n",
      "|      0|2023-12-09 14:49:...|Append|[\"partner\",\"level\"]|    WRITE|     283|     283|\n",
      "+-------+--------------------+------+-------------------+---------+--------+--------+\n",
      "\n"
     ]
    }
   ],
   "source": [
    "silver_operation_df.select(\n",
    "    \"version\",\n",
    "    \"timestamp\",\n",
    "    \"operationParameters.mode\",\n",
    "    \"operationParameters.partitionBy\",\n",
    "    \"operation\",\n",
    "    \"operationMetrics.numFiles\",\n",
    "    \"operationMetrics.numFiles\"\n",
    ").show(20)"
   ]
  },
  {
   "cell_type": "code",
   "execution_count": null,
   "id": "9fe15832-4fc1-4b24-898c-261aaed5c6ce",
   "metadata": {},
   "outputs": [],
   "source": []
  },
  {
   "cell_type": "markdown",
   "id": "57b83604-f8eb-454a-8de6-3a2260cce231",
   "metadata": {},
   "source": [
    "### Silver to Golden"
   ]
  },
  {
   "cell_type": "code",
   "execution_count": 11,
   "id": "d6d636f5-aef3-4ca0-94cf-afa9409a9e72",
   "metadata": {},
   "outputs": [
    {
     "name": "stdout",
     "output_type": "stream",
     "text": [
      "+-------+--------------------+------+-----------+---------+--------------------+-------------+-----------------+\n",
      "|partner|              course|rating|reviewcount|    level|     certificatetype|     duration|crediteligibility|\n",
      "+-------+--------------------+------+-----------+---------+--------------------+-------------+-----------------+\n",
      "| Google|Google Cybersecurity|   4.8|    16400.0|Beginner | Professional Cer...| 3 - 6 Months|            FALSE|\n",
      "| Google|Google Data Analy...|   4.8|   133400.0|Beginner | Professional Cer...| 3 - 6 Months|             TRUE|\n",
      "+-------+--------------------+------+-----------+---------+--------------------+-------------+-----------------+\n",
      "only showing top 2 rows\n",
      "\n"
     ]
    }
   ],
   "source": [
    "silver_df = spark.read.format(\"delta\").load(\"./silver/\")\n",
    "silver_df.show(2)"
   ]
  },
  {
   "cell_type": "code",
   "execution_count": 12,
   "id": "d093f239-7a69-4e0f-9b31-9cc15150363b",
   "metadata": {},
   "outputs": [
    {
     "name": "stderr",
     "output_type": "stream",
     "text": [
      "[Stage 30:============>                                             (2 + 7) / 9]\r"
     ]
    },
    {
     "name": "stdout",
     "output_type": "stream",
     "text": [
      "+--------------------+-------------+------------------+\n",
      "|             partner|        level|   avg_reviewcount|\n",
      "+--------------------+-------------+------------------+\n",
      "|University of Vir...|    Beginner |            7000.0|\n",
      "|                Meta|    Beginner | 5964.705882352941|\n",
      "|Coursera Project ...|    Beginner |            2800.0|\n",
      "|     Duke University|    Beginner |            7630.0|\n",
      "|University of Cal...|    Beginner |           19137.5|\n",
      "|University of Cal...|    Beginner | 7627.272727272727|\n",
      "|              Google|    Beginner |           23235.0|\n",
      "|University of Ill...|    Beginner |            6412.5|\n",
      "|University of Pen...|       Mixed |           6156.25|\n",
      "|University of Ill...|Intermediate |4066.6666666666665|\n",
      "|University of Col...|Intermediate |            3120.0|\n",
      "|University of Mic...|Intermediate |11342.857142857143|\n",
      "|University of Pen...|    Beginner |            6605.0|\n",
      "|                 IBM|    Beginner |25444.897959183672|\n",
      "|     Rice University|    Beginner |            4900.0|\n",
      "|     DeepLearning.AI|    Beginner |18533.333333333332|\n",
      "|University of Tor...|    Beginner |3533.3333333333335|\n",
      "|           Microsoft|    Beginner |            2100.0|\n",
      "|University of Col...|    Beginner |            5320.0|\n",
      "|     Yale University|    Beginner |           12080.0|\n",
      "+--------------------+-------------+------------------+\n",
      "only showing top 20 rows\n",
      "\n"
     ]
    },
    {
     "name": "stderr",
     "output_type": "stream",
     "text": [
      "                                                                                \r"
     ]
    }
   ],
   "source": [
    "final_df = silver_df\\\n",
    "            .groupby(\"partner\", \"level\")\\\n",
    "            .agg(F.avg(\"reviewcount\").alias(\"avg_reviewcount\"))\\\n",
    "            .filter(F.col(\"avg_reviewcount\").isNotNull())\n",
    "final_df.show()"
   ]
  },
  {
   "cell_type": "code",
   "execution_count": 13,
   "id": "99fc68cf-0c9a-4acc-9959-6aa697a9405c",
   "metadata": {},
   "outputs": [
    {
     "name": "stderr",
     "output_type": "stream",
     "text": [
      "                                                                                \r"
     ]
    }
   ],
   "source": [
    "final_df.write\\\n",
    "    .partitionBy(\"partner\", \"level\")\\\n",
    "    .format(\"delta\")\\\n",
    "    .mode(\"append\")\\\n",
    "    .save(\"./golden/\")"
   ]
  },
  {
   "cell_type": "markdown",
   "id": "e7a2f07a-c649-48fa-9d5d-3a145d2a2351",
   "metadata": {},
   "source": [
    "#### Delta log for Golden"
   ]
  },
  {
   "cell_type": "code",
   "execution_count": 14,
   "id": "6cbde7f9-44be-4de3-b1c2-3f89fa0d919f",
   "metadata": {},
   "outputs": [
    {
     "name": "stdout",
     "output_type": "stream",
     "text": [
      "+-------+--------------------+------+--------+---------+--------------------+----+--------+---------+-----------+--------------+-------------+--------------------+------------+--------------------+\n",
      "|version|           timestamp|userId|userName|operation| operationParameters| job|notebook|clusterId|readVersion|isolationLevel|isBlindAppend|    operationMetrics|userMetadata|          engineInfo|\n",
      "+-------+--------------------+------+--------+---------+--------------------+----+--------+---------+-----------+--------------+-------------+--------------------+------------+--------------------+\n",
      "|      0|2023-12-09 14:50:...|  null|    null|    WRITE|{mode -> Append, ...|null|    null|     null|       null|  Serializable|         true|{numFiles -> 167,...|        null|Apache-Spark/3.3....|\n",
      "+-------+--------------------+------+--------+---------+--------------------+----+--------+---------+-----------+--------------+-------------+--------------------+------------+--------------------+\n",
      "\n"
     ]
    }
   ],
   "source": [
    "from delta.tables import DeltaTable\n",
    "\n",
    "golden_delta_table = DeltaTable.forPath(spark, \"./golden//\")\n",
    "golden_operation_df = golden_delta_table.history()\n",
    "golden_operation_df.show()"
   ]
  },
  {
   "cell_type": "code",
   "execution_count": 15,
   "id": "dc935d3c-172b-4bf2-9648-f5ad720ab094",
   "metadata": {},
   "outputs": [
    {
     "name": "stdout",
     "output_type": "stream",
     "text": [
      "+-------+--------------------+------+-------------------+---------+--------+--------+\n",
      "|version|           timestamp|  mode|        partitionBy|operation|numFiles|numFiles|\n",
      "+-------+--------------------+------+-------------------+---------+--------+--------+\n",
      "|      0|2023-12-09 14:50:...|Append|[\"partner\",\"level\"]|    WRITE|     167|     167|\n",
      "+-------+--------------------+------+-------------------+---------+--------+--------+\n",
      "\n"
     ]
    }
   ],
   "source": [
    "golden_operation_df.select(\n",
    "    \"version\",\n",
    "    \"timestamp\",\n",
    "    \"operationParameters.mode\",\n",
    "    \"operationParameters.partitionBy\",\n",
    "    \"operation\",\n",
    "    \"operationMetrics.numFiles\",\n",
    "    \"operationMetrics.numFiles\"\n",
    ").show(20)"
   ]
  },
  {
   "cell_type": "code",
   "execution_count": null,
   "id": "054b0d76-c344-428c-8c14-0242cdca7165",
   "metadata": {},
   "outputs": [],
   "source": []
  },
  {
   "cell_type": "markdown",
   "id": "de06890b-fb02-42c0-8b41-361f219b06b2",
   "metadata": {},
   "source": [
    "### TimeTravel(Schema Evolution) Example"
   ]
  },
  {
   "cell_type": "code",
   "execution_count": 16,
   "id": "8ca297a7-503c-4004-bda7-9e30ed808d2d",
   "metadata": {},
   "outputs": [
    {
     "name": "stdout",
     "output_type": "stream",
     "text": [
      "+-------+--------------------+------+-----------+---------+--------------------+-------------+-----------------+\n",
      "|partner|              course|rating|reviewcount|    level|     certificatetype|     duration|crediteligibility|\n",
      "+-------+--------------------+------+-----------+---------+--------------------+-------------+-----------------+\n",
      "| Google|Google Cybersecurity|   4.8|    16400.0|Beginner | Professional Cer...| 3 - 6 Months|            FALSE|\n",
      "| Google|Google Data Analy...|   4.8|   133400.0|Beginner | Professional Cer...| 3 - 6 Months|             TRUE|\n",
      "+-------+--------------------+------+-----------+---------+--------------------+-------------+-----------------+\n",
      "only showing top 2 rows\n",
      "\n"
     ]
    }
   ],
   "source": [
    "v1_silver_df = spark.read.format(\"delta\")\\\n",
    "                    .option(\"versionAsOf\", \"0\")\\\n",
    "                    .load(\"./silver/\")\n",
    "v1_silver_df.show(2)"
   ]
  },
  {
   "cell_type": "code",
   "execution_count": 17,
   "id": "a77afcc9-381d-49da-8f68-bdee88eae446",
   "metadata": {},
   "outputs": [
    {
     "name": "stderr",
     "output_type": "stream",
     "text": [
      "                                                                                \r"
     ]
    },
    {
     "name": "stdout",
     "output_type": "stream",
     "text": [
      "+--------------------+--------------------+------+-----------+-------------+--------------------+-------------+-----------------+--------------------+\n",
      "|             partner|              course|rating|reviewcount|        level|     certificatetype|     duration|crediteligibility|        concat_label|\n",
      "+--------------------+--------------------+------+-----------+-------------+--------------------+-------------+-----------------+--------------------+\n",
      "|              Google|Google Data Analy...|   4.8|   133400.0|    Beginner | Professional Cer...| 3 - 6 Months|             TRUE|    Google-Beginner |\n",
      "|              Google|Google Project Ma...|   4.8|    97300.0|    Beginner | Professional Cer...| 3 - 6 Months|             TRUE|    Google-Beginner |\n",
      "|              Google|   Google IT Support|   4.8|   181400.0|    Beginner | Professional Cer...| 3 - 6 Months|             TRUE|    Google-Beginner |\n",
      "|              Google|    Google UX Design|   4.8|    73700.0|    Beginner | Professional Cer...| 3 - 6 Months|             TRUE|    Google-Beginner |\n",
      "|                 IBM|    IBM Data Science|   4.6|   118900.0|    Beginner | Professional Cer...| 3 - 6 Months|             TRUE|       IBM-Beginner |\n",
      "|                 IBM|    IBM Data Analyst|   4.6|    71500.0|    Beginner | Professional Cer...| 3 - 6 Months|             TRUE|       IBM-Beginner |\n",
      "|                 IBM|Introduction to D...|   4.6|    85000.0|    Beginner |     Specialization | 3 - 6 Months|             TRUE|       IBM-Beginner |\n",
      "|                 IBM|IBM Full Stack So...|   4.6|    41200.0|    Beginner | Professional Cer...| 3 - 6 Months|             TRUE|       IBM-Beginner |\n",
      "|                 IBM|Data Science Fund...|   4.6|    59200.0|    Beginner |     Specialization | 3 - 6 Months|             TRUE|       IBM-Beginner |\n",
      "|                 IBM|IBM Data Engineering|   4.6|    46200.0|    Beginner | Professional Cer...| 3 - 6 Months|             TRUE|       IBM-Beginner |\n",
      "|                 IBM|IBM Data Analytic...|   4.7|    19900.0|    Beginner | Professional Cer...| 3 - 6 Months|             TRUE|       IBM-Beginner |\n",
      "|                 IBM|Data Analysis and...|   4.7|    19300.0|    Beginner |     Specialization | 3 - 6 Months|             TRUE|       IBM-Beginner |\n",
      "|                 IBM|Applied Data Science|   4.6|    48500.0|    Beginner |     Specialization | 3 - 6 Months|             TRUE|       IBM-Beginner |\n",
      "|                 IBM|IBM Cybersecurity...|   4.6|    21700.0|    Beginner | Professional Cer...| 3 - 6 Months|             TRUE|       IBM-Beginner |\n",
      "|     DeepLearning.AI|       Deep Learning|   4.8|   141500.0|Intermediate |     Specialization | 3 - 6 Months|             TRUE|DeepLearning.AI-I...|\n",
      "|University of Col...|Databases for Dat...|   4.7|       null|    Beginner |     Specialization | 3 - 6 Months|             TRUE|University of Col...|\n",
      "|University of Ill...|   Digital Marketing|   4.7|    22400.0|    Beginner |     Specialization | 3 - 6 Months|             TRUE|University of Ill...|\n",
      "|University of Ill...|Strategic Leaders...|   4.8|     8800.0|    Beginner |     Specialization | 3 - 6 Months|             TRUE|University of Ill...|\n",
      "|University of Ill...|Business Value an...|   4.7|     7000.0|    Beginner |     Specialization | 3 - 6 Months|             TRUE|University of Ill...|\n",
      "|University of Ill...|  Business Analytics|   4.6|       null|    Beginner |     Specialization | 3 - 6 Months|             TRUE|University of Ill...|\n",
      "+--------------------+--------------------+------+-----------+-------------+--------------------+-------------+-----------------+--------------------+\n",
      "only showing top 20 rows\n",
      "\n"
     ]
    }
   ],
   "source": [
    "v2_silver_df = v1_silver_df.filter(\n",
    "    (F.col(\"certificatetype\")!=\"None\") &\\\n",
    "    (F.col(\"level\")!=\"None\") &\\\n",
    "    (F.col(\"crediteligibility\") == True)\n",
    ")\n",
    "v2_silver_df = v2_silver_df.withColumn(\n",
    "                \"concat_label\", \n",
    "                F.concat(F.col(\"partner\"), F.lit(\"-\"), F.col(\"level\")))\n",
    "\n",
    "v2_silver_df.show()"
   ]
  },
  {
   "cell_type": "code",
   "execution_count": 18,
   "id": "66292545-e4d7-4cb6-b8b2-a528a33c23ec",
   "metadata": {},
   "outputs": [
    {
     "name": "stderr",
     "output_type": "stream",
     "text": [
      "                                                                                \r"
     ]
    },
    {
     "data": {
      "text/plain": [
       "1120"
      ]
     },
     "execution_count": 18,
     "metadata": {},
     "output_type": "execute_result"
    }
   ],
   "source": [
    "v1_silver_df.count()"
   ]
  },
  {
   "cell_type": "code",
   "execution_count": 19,
   "id": "bad7a069-f9b5-4ef9-a60a-1ec1628ac5b0",
   "metadata": {},
   "outputs": [
    {
     "name": "stderr",
     "output_type": "stream",
     "text": [
      "                                                                                \r"
     ]
    },
    {
     "data": {
      "text/plain": [
       "45"
      ]
     },
     "execution_count": 19,
     "metadata": {},
     "output_type": "execute_result"
    }
   ],
   "source": [
    "v2_silver_df.count()"
   ]
  },
  {
   "cell_type": "code",
   "execution_count": 20,
   "id": "47477df9-3c64-42d8-97ef-957f1227ec17",
   "metadata": {},
   "outputs": [
    {
     "name": "stderr",
     "output_type": "stream",
     "text": [
      "                                                                                \r"
     ]
    }
   ],
   "source": [
    "v2_silver_df.write\\\n",
    "    .partitionBy(\"partner\", \"level\")\\\n",
    "    .option(\"mergeSchema\", \"true\")\\\n",
    "    .option(\"userMetadata\", \"filter-null-value-and-add-label\")\\\n",
    "    .format(\"delta\")\\\n",
    "    .mode(\"append\")\\\n",
    "    .save(\"./silver/\")"
   ]
  },
  {
   "cell_type": "code",
   "execution_count": 21,
   "id": "887190cb-3393-4159-b31f-73f28a2f5e4e",
   "metadata": {},
   "outputs": [
    {
     "name": "stdout",
     "output_type": "stream",
     "text": [
      "+-------+--------------------+------+--------+---------+--------------------+----+--------+---------+-----------+--------------+-------------+--------------------+--------------------+--------------------+\n",
      "|version|           timestamp|userId|userName|operation| operationParameters| job|notebook|clusterId|readVersion|isolationLevel|isBlindAppend|    operationMetrics|        userMetadata|          engineInfo|\n",
      "+-------+--------------------+------+--------+---------+--------------------+----+--------+---------+-----------+--------------+-------------+--------------------+--------------------+--------------------+\n",
      "|      1|2023-12-09 14:52:...|  null|    null|    WRITE|{mode -> Append, ...|null|    null|     null|          0|  Serializable|         true|{numFiles -> 13, ...|filter-null-value...|Apache-Spark/3.3....|\n",
      "|      0|2023-12-09 14:49:...|  null|    null|    WRITE|{mode -> Append, ...|null|    null|     null|       null|  Serializable|         true|{numFiles -> 283,...|                null|Apache-Spark/3.3....|\n",
      "+-------+--------------------+------+--------+---------+--------------------+----+--------+---------+-----------+--------------+-------------+--------------------+--------------------+--------------------+\n",
      "\n"
     ]
    }
   ],
   "source": [
    "from delta.tables import DeltaTable\n",
    "\n",
    "silver_delta_table = DeltaTable.forPath(spark, \"./silver/\")\n",
    "silver_operation_df = silver_delta_table.history()\n",
    "silver_operation_df.show()"
   ]
  },
  {
   "cell_type": "code",
   "execution_count": 22,
   "id": "0400a080-0732-4e8c-89fc-5f29cb42c6ce",
   "metadata": {},
   "outputs": [
    {
     "name": "stdout",
     "output_type": "stream",
     "text": [
      "+-------+--------------------+------+-------------------+---------+--------+--------+\n",
      "|version|           timestamp|  mode|        partitionBy|operation|numFiles|numFiles|\n",
      "+-------+--------------------+------+-------------------+---------+--------+--------+\n",
      "|      1|2023-12-09 14:52:...|Append|[\"partner\",\"level\"]|    WRITE|      13|      13|\n",
      "|      0|2023-12-09 14:49:...|Append|[\"partner\",\"level\"]|    WRITE|     283|     283|\n",
      "+-------+--------------------+------+-------------------+---------+--------+--------+\n",
      "\n"
     ]
    }
   ],
   "source": [
    "silver_operation_df.select(\n",
    "    \"version\",\n",
    "    \"timestamp\",\n",
    "    \"operationParameters.mode\",\n",
    "    \"operationParameters.partitionBy\",\n",
    "    \"operation\",\n",
    "    \"operationMetrics.numFiles\",\n",
    "    \"operationMetrics.numFiles\"\n",
    ").show(20)"
   ]
  },
  {
   "cell_type": "code",
   "execution_count": 28,
   "id": "1481a6b8-aa94-4d22-8052-3f75f699624e",
   "metadata": {},
   "outputs": [
    {
     "name": "stdout",
     "output_type": "stream",
     "text": [
      "+-------+--------------------+------+-----------+---------+--------------------+-------------+-----------------+------------+\n",
      "|partner|              course|rating|reviewcount|    level|     certificatetype|     duration|crediteligibility|concat_label|\n",
      "+-------+--------------------+------+-----------+---------+--------------------+-------------+-----------------+------------+\n",
      "| Google|Google Cybersecurity|   4.8|    16400.0|Beginner | Professional Cer...| 3 - 6 Months|            FALSE|        null|\n",
      "| Google|Google Data Analy...|   4.8|   133400.0|Beginner | Professional Cer...| 3 - 6 Months|             TRUE|        null|\n",
      "+-------+--------------------+------+-----------+---------+--------------------+-------------+-----------------+------------+\n",
      "only showing top 2 rows\n",
      "\n"
     ]
    }
   ],
   "source": [
    "test_silver_df = spark.read.format(\"delta\")\\\n",
    "                    .option(\"versionAsOf\", \"1\")\\\n",
    "                    .load(\"./silver/\")\n",
    "test_silver_df.show(2)"
   ]
  },
  {
   "cell_type": "markdown",
   "id": "d7e7ae18-fe92-44d4-ac7a-5d9e5d057e7b",
   "metadata": {},
   "source": []
  },
  {
   "cell_type": "code",
   "execution_count": 27,
   "id": "3b5eb273-3d87-41d3-a279-ff94ea68d6a5",
   "metadata": {},
   "outputs": [
    {
     "data": {
      "text/plain": [
       "1165"
      ]
     },
     "execution_count": 27,
     "metadata": {},
     "output_type": "execute_result"
    }
   ],
   "source": [
    "test_silver_df.count()"
   ]
  },
  {
   "cell_type": "code",
   "execution_count": null,
   "id": "fc01b86f-72ff-463e-a994-517d46707bc5",
   "metadata": {},
   "outputs": [],
   "source": []
  }
 ],
 "metadata": {
  "kernelspec": {
   "display_name": "Python 3 (ipykernel)",
   "language": "python",
   "name": "python3"
  },
  "language_info": {
   "codemirror_mode": {
    "name": "ipython",
    "version": 3
   },
   "file_extension": ".py",
   "mimetype": "text/x-python",
   "name": "python",
   "nbconvert_exporter": "python",
   "pygments_lexer": "ipython3",
   "version": "3.9.6"
  }
 },
 "nbformat": 4,
 "nbformat_minor": 5
}
